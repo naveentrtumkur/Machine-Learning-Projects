{
 "cells": [
  {
   "cell_type": "code",
   "execution_count": 2,
   "metadata": {},
   "outputs": [],
   "source": [
    "import numpy as np\n",
    "import pandas as pd"
   ]
  },
  {
   "cell_type": "code",
   "execution_count": 3,
   "metadata": {},
   "outputs": [],
   "source": [
    "File_data = '/Users/naveentr/Desktop/ad-dataset/ad.data' # specify the input data file.\n",
    "\n",
    "#read the data using pandas.\n",
    "data = pd.read_csv(File_data,sep=\",\",header=None,low_memory=False)\n",
    "\n",
    "#get a glimpse of the data\n",
    "#data.head(10)"
   ]
  },
  {
   "cell_type": "code",
   "execution_count": 4,
   "metadata": {},
   "outputs": [],
   "source": [
    "#Data processing, Convert missing values to naN and then use dropnA.\n",
    "def convertToNum(cell):\n",
    "    try:\n",
    "        return np.float(cell) #convert it to float, else return a naN\n",
    "    except:\n",
    "        return np.nan\n",
    "\n",
    "# Use missing value condition to a column\n",
    "def pandToNum(series):\n",
    "    return series.apply(convertToNum)"
   ]
  },
  {
   "cell_type": "code",
   "execution_count": 7,
   "metadata": {},
   "outputs": [],
   "source": [
    "training_data = data.iloc[0:,0:-1].apply(pandToNum)\n",
    "#training_data.head(30)\n",
    "training_data = training_data.dropna() #Drop the nan values from teh data\n",
    "#training_data.head(30)"
   ]
  },
  {
   "cell_type": "code",
   "execution_count": 8,
   "metadata": {},
   "outputs": [],
   "source": [
    "#Function to retrieve the label from historical data.\n",
    "def convertLabel(str):\n",
    "    if str=='ad.':\n",
    "        return 1\n",
    "    else:\n",
    "        return 0\n",
    "    \n",
    "#apply this function to the last column in our data to get the label.\n",
    "training_labels = data.iloc[training_data.index,-1].apply(convertLabel)\n",
    "#training_labels.head(20)"
   ]
  },
  {
   "cell_type": "code",
   "execution_count": 13,
   "metadata": {},
   "outputs": [
    {
     "data": {
      "text/plain": [
       "LinearSVC(C=1.0, class_weight=None, dual=True, fit_intercept=True,\n",
       "     intercept_scaling=1, loss='squared_hinge', max_iter=1000,\n",
       "     multi_class='ovr', penalty='l2', random_state=None, tol=0.0001,\n",
       "     verbose=0)"
      ]
     },
     "execution_count": 13,
     "metadata": {},
     "output_type": "execute_result"
    }
   ],
   "source": [
    "#use LinearSVC from scikit module.\n",
    "from sklearn.svm import LinearSVC\n",
    "\n",
    "clf = LinearSVC()\n",
    "clf.fit(training_data[100:2300],training_labels[100:2300])"
   ]
  },
  {
   "cell_type": "code",
   "execution_count": 15,
   "metadata": {},
   "outputs": [
    {
     "data": {
      "text/plain": [
       "array([1])"
      ]
     },
     "execution_count": 15,
     "metadata": {},
     "output_type": "execute_result"
    }
   ],
   "source": [
    "#Testing of an ad\n",
    "clf.predict(training_data.iloc[0].values.reshape(1,-1))"
   ]
  },
  {
   "cell_type": "code",
   "execution_count": 16,
   "metadata": {},
   "outputs": [
    {
     "data": {
      "text/plain": [
       "array([0])"
      ]
     },
     "execution_count": 16,
     "metadata": {},
     "output_type": "execute_result"
    }
   ],
   "source": [
    "#testing of a non-ad.\n",
    "clf.predict(training_data.iloc[-1].values.reshape(1,-1))"
   ]
  },
  {
   "cell_type": "code",
   "execution_count": null,
   "metadata": {},
   "outputs": [],
   "source": []
  }
 ],
 "metadata": {
  "kernelspec": {
   "display_name": "Python 3",
   "language": "python",
   "name": "python3"
  },
  "language_info": {
   "codemirror_mode": {
    "name": "ipython",
    "version": 3
   },
   "file_extension": ".py",
   "mimetype": "text/x-python",
   "name": "python",
   "nbconvert_exporter": "python",
   "pygments_lexer": "ipython3",
   "version": "3.6.3"
  }
 },
 "nbformat": 4,
 "nbformat_minor": 2
}
