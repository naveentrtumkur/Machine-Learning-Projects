{
 "cells": [
  {
   "cell_type": "code",
   "execution_count": 27,
   "metadata": {},
   "outputs": [],
   "source": [
    "# Implementation of Naive Bayes Algorithm on the sentiment Labelled Sentences data set\n",
    "# Data Set got from \"UCI Machine Learning Reporsitory\"  \n",
    "# https://archive.ics.uci.edu/ml/datasets/Sentiment+Labelled+Sentences#\n",
    "\n",
    "with open(\"/Users/naveentr/Desktop/sentiment labelled sentences/imdb_labelled.txt\",\"r\") as file_text:\n",
    "    lines = file_text.read().split('\\n')\n",
    "    #print(lines[0])\n",
    "    \n",
    "with open(\"/Users/naveentr/Desktop/sentiment labelled sentences/yelp_labelled.txt\",\"r\") as file_text:\n",
    "    lines += file_text.read().split('\\n')\n",
    "        \n",
    "with open(\"/Users/naveentr/Desktop/sentiment labelled sentences/amazon_cells_labelled.txt\",\"r\") as file_text:\n",
    "    lines += file_text.read().split('\\n')"
   ]
  },
  {
   "cell_type": "code",
   "execution_count": 28,
   "metadata": {},
   "outputs": [],
   "source": [
    "lines = [line.split(\"\\t\") for line in lines if len(line.split(\"\\t\"))==2 and line.split(\"\\t\")[1]!='']\n"
   ]
  },
  {
   "cell_type": "code",
   "execution_count": 29,
   "metadata": {},
   "outputs": [],
   "source": [
    "training_data = [line[0] for line in lines]\n",
    "#training_data"
   ]
  },
  {
   "cell_type": "code",
   "execution_count": 30,
   "metadata": {},
   "outputs": [],
   "source": [
    "training_labels = [int(line[1]) for line in lines]\n",
    "#training_labels"
   ]
  },
  {
   "cell_type": "code",
   "execution_count": 31,
   "metadata": {},
   "outputs": [],
   "source": [
    "from sklearn.feature_extraction.text import CountVectorizer"
   ]
  },
  {
   "cell_type": "code",
   "execution_count": 32,
   "metadata": {},
   "outputs": [],
   "source": [
    "#get the frequency of words using scikit's fit_transform method.\n",
    "count_vector = CountVectorizer(binary='true')\n",
    "training_data = count_vector.fit_transform(training_data)"
   ]
  },
  {
   "cell_type": "raw",
   "metadata": {},
   "source": []
  },
  {
   "cell_type": "code",
   "execution_count": 37,
   "metadata": {},
   "outputs": [],
   "source": [
    "# training_data prints the size of trainign_data after converted to a vector\n",
    "#print(training_data[0]) #print to verfify just one tuple\n"
   ]
  },
  {
   "cell_type": "code",
   "execution_count": 39,
   "metadata": {},
   "outputs": [],
   "source": [
    "#Use built-in Naive Bayes classification algorithm from sci-kit learn\n",
    "from sklearn.naive_bayes import BernoulliNB\n",
    "classifier = BernoulliNB().fit(training_data,training_labels) #instantiate BernoulliNB object and call the fit method\n"
   ]
  },
  {
   "cell_type": "code",
   "execution_count": 42,
   "metadata": {},
   "outputs": [
    {
     "data": {
      "text/plain": [
       "array([0])"
      ]
     },
     "execution_count": 42,
     "metadata": {},
     "output_type": "execute_result"
    }
   ],
   "source": [
    "#testing our clssifier\n",
    "\n",
    "#test-1\n",
    "classifier.predict(count_vector.transform([\"This is the best Movie!\"]))\n",
    "#returns 1 since this is a positive sentence.\n",
    "\n",
    "#test-2\n",
    "classifier.predict(count_vector.transform([\"This is a bad movie!\"]))\n",
    "#returns 0 since this is a negative sentiment."
   ]
  },
  {
   "cell_type": "code",
   "execution_count": null,
   "metadata": {},
   "outputs": [],
   "source": []
  }
 ],
 "metadata": {
  "kernelspec": {
   "display_name": "Python 3",
   "language": "python",
   "name": "python3"
  },
  "language_info": {
   "codemirror_mode": {
    "name": "ipython",
    "version": 3
   },
   "file_extension": ".py",
   "mimetype": "text/x-python",
   "name": "python",
   "nbconvert_exporter": "python",
   "pygments_lexer": "ipython3",
   "version": "3.6.3"
  }
 },
 "nbformat": 4,
 "nbformat_minor": 2
}
